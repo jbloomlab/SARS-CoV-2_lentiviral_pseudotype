{
 "cells": [
  {
   "cell_type": "code",
   "execution_count": null,
   "metadata": {},
   "outputs": [],
   "source": [
    "import pandas as pd\n",
    "import numpy as np\n",
    "\n",
    "\n",
    "import neutcurve\n",
    "\n",
    "from plotnine import *\n",
    "\n",
    "import csv\n",
    "import matplotlib.pyplot as plt"
   ]
  },
  {
   "cell_type": "code",
   "execution_count": null,
   "metadata": {},
   "outputs": [],
   "source": [
    "CBP = neutcurve.colorschemes.CBPALETTE\n",
    "CBM = neutcurve.colorschemes.CBMARKERS\n",
    "theme_set(theme_seaborn(style='white', context='paper', font_scale=1))"
   ]
  },
  {
   "cell_type": "code",
   "execution_count": null,
   "metadata": {},
   "outputs": [],
   "source": [
    "df = pd.read_csv('./deltaCT_fract_infectivity.csv')\n",
    "df['serum'] = df['serum'].astype(str)\n",
    "fill = {'serum': ['15529', '15529', '15529', '15529', '15529'],\n",
    "        'virus': ['FullLength_2', 'delta18', 'delta18', 'delta18', 'delta18'],\n",
    "        'replicate': [2, 2, 2, 2, 2],\n",
    "        'concentration': [df.iloc[18]['concentration'], df.iloc[24]['concentration'],\n",
    "                          df.iloc[26]['concentration'], df.iloc[28]['concentration'], df.iloc[29]['concentration']],\n",
    "        'fraction infectivity': [0.904158, 0.073803, 0.614360, 0.927584, 1.017870]}\n",
    "fill_df = pd.DataFrame.from_dict(fill)\n",
    "df_fillrep2 = pd.concat([df, fill_df], ignore_index=True)\n",
    "display(df_fillrep2)"
   ]
  },
  {
   "cell_type": "code",
   "execution_count": null,
   "metadata": {},
   "outputs": [],
   "source": [
    "df_fillrep2['serum'] = df_fillrep2['serum'].replace('15529', 'SARS-CoV-2+, 43 days p.s.o.')\n",
    "df_fillrep2['virus'] = df_fillrep2['virus'].replace('FullLength_3', 'Full Length')\n",
    "display(df_fillrep2)"
   ]
  },
  {
   "cell_type": "code",
   "execution_count": null,
   "metadata": {},
   "outputs": [],
   "source": [
    "final_fits = neutcurve.CurveFits(df_fillrep2, fixtop=True)"
   ]
  },
  {
   "cell_type": "code",
   "execution_count": null,
   "metadata": {},
   "outputs": [],
   "source": [
    "serum = 'SARS-CoV-2+, 43 days p.s.o.'"
   ]
  },
  {
   "cell_type": "code",
   "execution_count": null,
   "metadata": {},
   "outputs": [],
   "source": [
    "curve = final_fits.getCurve(serum=serum, virus='FullLength_1', replicate='average')\n",
    "print(f\"The IC50 is {curve.ic50():.3g}\")\n",
    "print(f\"This is a dilution of 1:{1/curve.ic50():.4g}\")\n",
    "final_fl1_ic50 = curve.ic50()\n",
    "fig, ax = curve.plot()"
   ]
  },
  {
   "cell_type": "code",
   "execution_count": null,
   "metadata": {},
   "outputs": [],
   "source": [
    "curve = final_fits.getCurve(serum=serum, virus='FullLength_2', replicate='average')\n",
    "print(f\"The IC50 is {curve.ic50():.3g}\")\n",
    "print(f\"This is a dilution of 1:{1/curve.ic50():.4g}\")\n",
    "final_fl2_ic50 = curve.ic50()\n",
    "fig, ax = curve.plot()"
   ]
  },
  {
   "cell_type": "code",
   "execution_count": null,
   "metadata": {},
   "outputs": [],
   "source": [
    "curve = final_fits.getCurve(serum=serum, virus='Full Length', replicate='average')\n",
    "print(f\"The IC50 is {curve.ic50():.3g}\")\n",
    "print(f\"This is a dilution of 1:{1/curve.ic50():.4g}\")\n",
    "final_fl3_ic50 = curve.ic50()\n",
    "fig, ax = curve.plot()"
   ]
  },
  {
   "cell_type": "code",
   "execution_count": null,
   "metadata": {},
   "outputs": [],
   "source": [
    "curve = final_fits.getCurve(serum=serum, virus='delta18', replicate='average')\n",
    "print(f\"The IC50 is {curve.ic50():.3g}\")\n",
    "print(f\"This is a dilution of 1:{1/curve.ic50():.4g}\")\n",
    "final_delta18_ic50 = curve.ic50()\n",
    "fig, ax = curve.plot()"
   ]
  },
  {
   "cell_type": "code",
   "execution_count": null,
   "metadata": {},
   "outputs": [],
   "source": [
    "curve = final_fits.getCurve(serum=serum, virus='delta21', replicate='1')\n",
    "print(f\"The IC50 is {curve.ic50():.3g}\")\n",
    "print(f\"This is a dilution of 1:{1/curve.ic50():.4g}\")\n",
    "final_delta21_ic50 = curve.ic50()\n",
    "fig, ax = curve.plot()"
   ]
  },
  {
   "cell_type": "code",
   "execution_count": null,
   "metadata": {},
   "outputs": [],
   "source": [
    "fig, axes = final_fits.plotSera(xlabel = 'serum dilution')"
   ]
  },
  {
   "cell_type": "code",
   "execution_count": null,
   "metadata": {},
   "outputs": [],
   "source": [
    "fig, axes = final_fits.plotSera(viruses=['Full Length', 'delta18', 'delta21'], xlabel = 'serum dilution')\n",
    "fig.savefig('./200611_detaCT_neut.png', bbox_inches='tight')"
   ]
  },
  {
   "cell_type": "code",
   "execution_count": null,
   "metadata": {},
   "outputs": [],
   "source": [
    "print(f\"FL_1 (DK neuts), 1:{1/final_fl1_ic50:.5}\\nFL_2 (CT test), 1:{1/final_fl2_ic50:.5}\\nFL_3 (re-run), 1:{1/final_fl3_ic50:.5}\")\n",
    "print(f\"delta18, 1:{1/final_delta18_ic50:.5}\\ndelta21, 1:{1/final_delta21_ic50:.5}\")"
   ]
  },
  {
   "cell_type": "markdown",
   "metadata": {},
   "source": [
    "# Titer Data\n",
    "\n",
    "Flow cytometry and luciferase titering data for viruses made with full length, or deltaCT Spikes."
   ]
  },
  {
   "cell_type": "code",
   "execution_count": null,
   "metadata": {},
   "outputs": [],
   "source": [
    "luctiters = pd.read_csv('./200611_luctiters.csv')\n",
    "\n",
    "VEP_list = ['Full Length', 'delta18', 'delta21', 'None', 'VSV G']\n",
    "VEP_order = ['Full Length', 'delta18', 'delta21', 'VSV G', 'None']\n",
    "luctiters['VEP'] = VEP_list\n",
    "luctiters['VEP_order'] = pd.Categorical(luctiters['VEP'], categories = VEP_order)\n",
    "luctiters['Plot_Titer'] = [luctiters.iloc[0]['Avg_RLUpermL-neut_plate'], luctiters.iloc[1]['Avg_RLUpermL-neut_plate'],\n",
    "                          luctiters.iloc[2]['Avg_RLUpermL-neut_plate'], luctiters.iloc[3]['Avg_RLUpermL-neut_plate'],\n",
    "                          luctiters.iloc[4]['Avg_RLUpermL-titer_plate']]\n",
    "\n",
    "display(luctiters)"
   ]
  },
  {
   "cell_type": "code",
   "execution_count": null,
   "metadata": {},
   "outputs": [],
   "source": [
    "RLU_titers_plot = (ggplot(luctiters, aes(x='VEP_order', y='Plot_Titer')) +\n",
    "                         geom_point(size=3, position=position_dodge(width=0.2, preserve='total')) +\n",
    "#                           scale_fill_manual(values=CBPALETTE[1:3], name='Backbone') +\n",
    "#                           scale_shape_manual(values=['o'], name='Backbone') +\n",
    "                          theme(axis_text_x=element_text(angle=90, vjust=1, hjust=0.5, size=12),\n",
    "                                axis_title_y = element_text(size=11),\n",
    "                                plot_title=element_text(size=13),\n",
    "                                figure_size=(4, 2.5)) +\n",
    "                          scale_y_log10(limits=[1e2, 1e10], breaks=[1e2, 1e3, 1e4, 1e5, 1e6, 1e7, 1e8, 1e9, 1e10]) +\n",
    "                          #geom_hline(yintercept=10) +\n",
    "                          ylab('relative luciferase units per mL') +\n",
    "                          xlab('') +\n",
    "                          ggtitle('Luciferase-IRES-ZsGreen backbone'))\n",
    "\n",
    "_ = RLU_titers_plot.draw()\n",
    "\n",
    "RLU_titers_plot.save('200611_luciferase_titers.pdf')"
   ]
  },
  {
   "cell_type": "code",
   "execution_count": null,
   "metadata": {},
   "outputs": [],
   "source": [
    "flow_titers = pd.read_csv('./200605_deltaCT_flowtiter.csv')\n",
    "flow_titers_toplot = flow_titers[flow_titers['Sample_Cat'] == 'HDM+25']\n",
    "display(flow_titers_toplot)"
   ]
  },
  {
   "cell_type": "code",
   "execution_count": null,
   "metadata": {},
   "outputs": [],
   "source": [
    "final_flow_titers = {'VEP': ['None', 'IDT_EK', 'delta18', 'delta21', 'VSVG'],\n",
    "                     'Avg Titer': [((flow_titers_toplot.loc[0]['Titer'] + flow_titers_toplot.loc[7]['Titer'])/2),\n",
    "                                   ((flow_titers_toplot.loc[1]['Titer'] + flow_titers_toplot.loc[8]['Titer'])/2),\n",
    "                                   ((flow_titers_toplot.loc[2]['Titer'] + flow_titers_toplot.loc[9]['Titer'])/2),\n",
    "                                   ((flow_titers_toplot.loc[3]['Titer'] + flow_titers_toplot.loc[10]['Titer'] + flow_titers_toplot.loc[21]['Titer'])/3),\n",
    "                                   ((flow_titers_toplot.loc[4]['Titer'] + flow_titers_toplot.loc[11]['Titer'])/2)]                                   \n",
    "                     }\n",
    "final_titers_df = pd.DataFrame.from_dict(final_flow_titers)\n",
    "flow_VEP_list = ['None', 'Full Length', 'delta18', 'delta21', 'VSV G']\n",
    "flow_VEP_order = ['Full Length', 'delta18', 'delta21', 'VSV G', 'None']\n",
    "final_titers_df['plot_names'] = flow_VEP_list\n",
    "final_titers_df['VEP_order'] = pd.Categorical(final_titers_df['plot_names'], categories = flow_VEP_order)\n",
    "\n",
    "display(final_titers_df)\n"
   ]
  },
  {
   "cell_type": "code",
   "execution_count": null,
   "metadata": {},
   "outputs": [],
   "source": [
    "figure_spike_titers = (ggplot(final_titers_df.replace(0, float('NaN')),\n",
    "                              aes(x='VEP_order', y='Avg Titer')\n",
    "                              ) +\n",
    "                              geom_point(size=3, position=position_dodge(width=0.2, preserve='total')) +\n",
    "                              geom_text(label='n.d.', x=5, y=1, size=10, fontweight='normal', fontstyle='normal') +\n",
    "                              theme(axis_text_x=element_text(angle=90, vjust=1, hjust=0.5, size=12),\n",
    "                                axis_title_y = element_text(size=11),\n",
    "                                plot_title=element_text(size=13),\n",
    "                                figure_size=(4, 2.5)) +\n",
    "                              scale_y_log10(limits=[1e1, 1e7], breaks=[1e1, 1e2, 1e3, 1e4, 1e5, 1e6, 1e7]) +\n",
    "                              #geom_hline(yintercept=10) +\n",
    "                              ylab('transduction units per mL') +\n",
    "                              xlab('') +\n",
    "                              ggtitle('ZsGreen backbone titers from flow cytometry') \n",
    "                             )\n",
    "_ = figure_spike_titers.draw()\n",
    "\n",
    "figure_spike_titers.save('200611_ZsGreen_titers.pdf')"
   ]
  },
  {
   "cell_type": "code",
   "execution_count": null,
   "metadata": {},
   "outputs": [],
   "source": []
  },
  {
   "cell_type": "code",
   "execution_count": null,
   "metadata": {},
   "outputs": [],
   "source": []
  },
  {
   "cell_type": "code",
   "execution_count": null,
   "metadata": {},
   "outputs": [],
   "source": []
  },
  {
   "cell_type": "code",
   "execution_count": null,
   "metadata": {},
   "outputs": [],
   "source": []
  },
  {
   "cell_type": "code",
   "execution_count": null,
   "metadata": {},
   "outputs": [],
   "source": []
  },
  {
   "cell_type": "code",
   "execution_count": null,
   "metadata": {},
   "outputs": [],
   "source": []
  }
 ],
 "metadata": {
  "kernelspec": {
   "display_name": "Python 3",
   "language": "python",
   "name": "python3"
  },
  "language_info": {
   "codemirror_mode": {
    "name": "ipython",
    "version": 3
   },
   "file_extension": ".py",
   "mimetype": "text/x-python",
   "name": "python",
   "nbconvert_exporter": "python",
   "pygments_lexer": "ipython3",
   "version": "3.6.7"
  }
 },
 "nbformat": 4,
 "nbformat_minor": 4
}
